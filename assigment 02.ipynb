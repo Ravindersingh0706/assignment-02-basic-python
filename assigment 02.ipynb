{
 "cells": [
  {
   "cell_type": "code",
   "execution_count": null,
   "id": "a8c8b7eb-c4e0-4d7a-80ca-dcd018c577e2",
   "metadata": {},
   "outputs": [],
   "source": [
    "                                                       BASIC PYTHON ASSIGNMENT 02"
   ]
  },
  {
   "cell_type": "code",
   "execution_count": 2,
   "id": "a74fa6f2-8da7-476d-98b5-9f66f3f04c31",
   "metadata": {},
   "outputs": [
    {
     "data": {
      "text/plain": [
       "bool"
      ]
     },
     "execution_count": 2,
     "metadata": {},
     "output_type": "execute_result"
    }
   ],
   "source": [
    "Q1:\n",
    "    The boolean can be of to types either TRUE or FALSE to express boolean\n",
    "a= True\n",
    "type(a)\n",
    "    \n",
    "b = False\n",
    "type(b)"
   ]
  },
  {
   "cell_type": "code",
   "execution_count": null,
   "id": "a291c24a-5ed5-4f98-b603-8e6bf6c5c1ab",
   "metadata": {},
   "outputs": [],
   "source": [
    "Q2:\n",
    "    three types of boolean values are \n",
    "    1)AND \n",
    "    2)OR \n",
    "    3)NOT"
   ]
  },
  {
   "cell_type": "code",
   "execution_count": 3,
   "id": "6f32a4b8-b049-4824-8aee-29ffab37d289",
   "metadata": {},
   "outputs": [
    {
     "name": "stdout",
     "output_type": "stream",
     "text": [
      "False\n"
     ]
    }
   ],
   "source": [
    "Q4:\n",
    "a= (5>4) and 3==5\n",
    "print(a)    "
   ]
  },
  {
   "cell_type": "code",
   "execution_count": 5,
   "id": "fe6cb6fe-dbd9-4949-ac7e-b9bb89ec35d7",
   "metadata": {},
   "outputs": [
    {
     "name": "stdout",
     "output_type": "stream",
     "text": [
      "False\n"
     ]
    }
   ],
   "source": [
    "b = not(5>4)\n",
    "print(b)"
   ]
  },
  {
   "cell_type": "code",
   "execution_count": 6,
   "id": "1babf68a-cbf8-4cb5-839b-4d2c22c2c4be",
   "metadata": {},
   "outputs": [
    {
     "name": "stdout",
     "output_type": "stream",
     "text": [
      "True\n"
     ]
    }
   ],
   "source": [
    "c = (5>4) or (3==5)\n",
    "print (c)"
   ]
  },
  {
   "cell_type": "code",
   "execution_count": 7,
   "id": "167a9d38-e35b-4081-9775-87f772050c99",
   "metadata": {},
   "outputs": [
    {
     "name": "stdout",
     "output_type": "stream",
     "text": [
      "False\n"
     ]
    }
   ],
   "source": [
    "c = not(5>4) or (3==5)\n",
    "print (c)"
   ]
  },
  {
   "cell_type": "code",
   "execution_count": 10,
   "id": "958b8ee2-6bf1-4b44-86d2-dca5fc5d430c",
   "metadata": {},
   "outputs": [
    {
     "name": "stdout",
     "output_type": "stream",
     "text": [
      "False\n"
     ]
    }
   ],
   "source": [
    "a = (True and True)and (True == False)\n",
    "print(a)"
   ]
  },
  {
   "cell_type": "code",
   "execution_count": 11,
   "id": "d4422fd8-7671-4b40-882b-f0f7c4c3afaf",
   "metadata": {},
   "outputs": [
    {
     "name": "stdout",
     "output_type": "stream",
     "text": [
      "True\n"
     ]
    }
   ],
   "source": [
    "b = (not False) or (not True)\n",
    "print(b)"
   ]
  },
  {
   "cell_type": "code",
   "execution_count": null,
   "id": "0b4f0bbb-59a7-4ab4-bdd8-7ef6723596fc",
   "metadata": {},
   "outputs": [],
   "source": [
    "Q5:\n",
    "    equal to  ==\n",
    "    not equal to !=\n",
    "    less than <\n",
    "    greater than >\n",
    "    less than or equal to <=\n",
    "    greater then or equal to >=\n",
    "    "
   ]
  },
  {
   "cell_type": "code",
   "execution_count": null,
   "id": "6fa92594-0dc4-44a9-abb6-aa4e35713b8f",
   "metadata": {},
   "outputs": [],
   "source": [
    "Q6:\n",
    "    the \"=\" is so called assign operator used to tell the result of the expression on right side of the operator to the left side of variable\n",
    "    the \"==\" is assigment operator used to equate wither gives True or False\n",
    "    "
   ]
  },
  {
   "cell_type": "code",
   "execution_count": 13,
   "id": "8decfef5-fd89-4263-aa1f-7fdb1186cbef",
   "metadata": {},
   "outputs": [
    {
     "ename": "SyntaxError",
     "evalue": "invalid syntax. Maybe you meant '==' or ':=' instead of '='? (3491815149.py, line 2)",
     "output_type": "error",
     "traceback": [
      "\u001b[0;36m  Cell \u001b[0;32mIn [13], line 2\u001b[0;36m\u001b[0m\n\u001b[0;31m    if a = 0:\u001b[0m\n\u001b[0m       ^\u001b[0m\n\u001b[0;31mSyntaxError\u001b[0m\u001b[0;31m:\u001b[0m invalid syntax. Maybe you meant '==' or ':=' instead of '='?\n"
     ]
    }
   ],
   "source": [
    "a = 1\n",
    "if a = 0:\n",
    "    print(\"a is zere\")\n",
    "else:\n",
    "    print(\"a is 1\")"
   ]
  },
  {
   "cell_type": "code",
   "execution_count": 14,
   "id": "85427abc-07a7-40c8-a3ad-90e24aeaf75f",
   "metadata": {},
   "outputs": [
    {
     "name": "stdout",
     "output_type": "stream",
     "text": [
      "a is 1\n"
     ]
    }
   ],
   "source": [
    "a = 1\n",
    "if a == 0:\n",
    "    print(\"a is zere\")\n",
    "else:\n",
    "    print(\"a is 1\")"
   ]
  },
  {
   "cell_type": "code",
   "execution_count": 16,
   "id": "4e18f3bc-9d11-485a-be2d-b683867be8ea",
   "metadata": {},
   "outputs": [
    {
     "name": "stdout",
     "output_type": "stream",
     "text": [
      "ham\n",
      "spam\n",
      "spam\n"
     ]
    }
   ],
   "source": [
    "Q7\n",
    "spam = 0\n",
    "if spam == 10:\n",
    "    print(\"eggs\")\n",
    "if spam > 5:\n",
    "    print(\"bacon\")\n",
    "else :\n",
    "    print(\"ham\")\n",
    "    print(\"spam\")\n",
    "    print(\"spam\")\n",
    "    #the three blocks are everything under \"if\" statement\n",
    "    #print(\"eggs\")\n",
    "    #print(\"bacon\") are blocks"
   ]
  },
  {
   "cell_type": "code",
   "execution_count": 21,
   "id": "45d717a9-3a1c-4561-92d9-9d037a607762",
   "metadata": {},
   "outputs": [
    {
     "name": "stdin",
     "output_type": "stream",
     "text": [
      "enter any number:  7\n"
     ]
    },
    {
     "name": "stdout",
     "output_type": "stream",
     "text": [
      "greeting\n"
     ]
    }
   ],
   "source": [
    "Q8\n",
    "spam = int(input(\"enter any number: \"))\n",
    "if spam == 1:\n",
    "    print(\"hello\")\n",
    "elif spam == 2:\n",
    "    print(\"howdy\")\n",
    "else:\n",
    "    print(\"greeting\")\n"
   ]
  },
  {
   "cell_type": "code",
   "execution_count": null,
   "id": "2d8145e6-43ab-49e1-a084-6673da077e52",
   "metadata": {},
   "outputs": [],
   "source": [
    "Q9:\n",
    "    if programme got stuck in endless loop we will press Ctrl + C"
   ]
  },
  {
   "cell_type": "code",
   "execution_count": null,
   "id": "d5fe98a6-9a06-4d1f-a1f2-92b290851dd7",
   "metadata": {},
   "outputs": [],
   "source": [
    "Q10:\n",
    "    break = a break condition alters the flow of loop if once specified condition  is match\n",
    "    continue= a continue statement is used to skip the remaining code inside a loop for ilteration \n",
    "    "
   ]
  },
  {
   "cell_type": "code",
   "execution_count": 26,
   "id": "8d40d073-2ced-4f2c-a18d-d7b4c58e6361",
   "metadata": {},
   "outputs": [
    {
     "data": {
      "text/plain": [
       "range(0, 10)"
      ]
     },
     "execution_count": 26,
     "metadata": {},
     "output_type": "execute_result"
    }
   ],
   "source": [
    "Q11\n",
    "range (10) : this means than range is till 10"
   ]
  },
  {
   "cell_type": "code",
   "execution_count": 23,
   "id": "0f94578b-4b4b-48e8-ad5c-ca1e9726580e",
   "metadata": {},
   "outputs": [
    {
     "data": {
      "text/plain": [
       "range(0, 10)"
      ]
     },
     "execution_count": 23,
     "metadata": {},
     "output_type": "execute_result"
    }
   ],
   "source": [
    "range (0,10) this says that staring point i 0 and end point is 9"
   ]
  },
  {
   "cell_type": "code",
   "execution_count": 24,
   "id": "27beec71-e4f6-47f8-86bb-9ef6cdbadc50",
   "metadata": {},
   "outputs": [
    {
     "data": {
      "text/plain": [
       "range(0, 10)"
      ]
     },
     "execution_count": 24,
     "metadata": {},
     "output_type": "execute_result"
    }
   ],
   "source": [
    "range (0,10,1)   this says that staring point i 0 and end point is 9 , but at a gap of 1"
   ]
  },
  {
   "cell_type": "code",
   "execution_count": null,
   "id": "9057a562-540d-4651-852d-99a23647a7e8",
   "metadata": {},
   "outputs": [],
   "source": [
    "AS such the is no difference they all give same result but the method of repersetnation is different "
   ]
  },
  {
   "cell_type": "code",
   "execution_count": 28,
   "id": "797c3e9a-2153-4ac1-b2d3-b90ecc44d786",
   "metadata": {},
   "outputs": [
    {
     "name": "stdout",
     "output_type": "stream",
     "text": [
      "1\n",
      "2\n",
      "3\n",
      "4\n",
      "5\n",
      "6\n",
      "7\n",
      "8\n",
      "9\n",
      "10\n"
     ]
    }
   ],
   "source": [
    "a = 1,2,3,4,5,6,7,8,9,10\n",
    "for i in range (1,11):\n",
    "    print (i)"
   ]
  },
  {
   "cell_type": "code",
   "execution_count": 35,
   "id": "004ce3cb-5853-4941-a83e-55f78065af57",
   "metadata": {},
   "outputs": [
    {
     "name": "stdout",
     "output_type": "stream",
     "text": [
      "1\n",
      "2\n",
      "3\n",
      "4\n",
      "5\n",
      "6\n",
      "7\n",
      "8\n",
      "9\n",
      "10\n"
     ]
    }
   ],
   "source": [
    "a = 1\n",
    "while a <= 10:\n",
    "    print(a)\n",
    "    a= a+1"
   ]
  },
  {
   "cell_type": "code",
   "execution_count": null,
   "id": "84e6c46d-1d02-4fa2-a897-b03ef64122d0",
   "metadata": {},
   "outputs": [],
   "source": []
  }
 ],
 "metadata": {
  "kernelspec": {
   "display_name": "Python 3 (ipykernel)",
   "language": "python",
   "name": "python3"
  },
  "language_info": {
   "codemirror_mode": {
    "name": "ipython",
    "version": 3
   },
   "file_extension": ".py",
   "mimetype": "text/x-python",
   "name": "python",
   "nbconvert_exporter": "python",
   "pygments_lexer": "ipython3",
   "version": "3.10.6"
  }
 },
 "nbformat": 4,
 "nbformat_minor": 5
}
