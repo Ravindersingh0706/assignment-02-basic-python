{
 "cells": [
  {
   "cell_type": "code",
   "execution_count": null,
   "id": "d969c7bb-d064-4010-91ae-68159dc6f477",
   "metadata": {},
   "outputs": [],
   "source": [
    "1. What exactly is []?\n",
    "T\n",
    "he empty list represented by [] is a list that contains no items.\n",
    "\n",
    "[ ] if it contain values then it is used to store list values of same or different datatypes"
   ]
  },
  {
   "cell_type": "code",
   "execution_count": null,
   "id": "37d1e4bf-60ec-4c8d-ac8e-b8ed570b8894",
   "metadata": {},
   "outputs": [],
   "source": [
    "2. In a list of values stored in a variable called spam, how would you assign the value \n",
    "'hello' as the third value? (Assume [2, 4, 6, 8, 10] are in spam.)"
   ]
  },
  {
   "cell_type": "code",
   "execution_count": 1,
   "id": "91ef1255-c6b1-47c7-b3ce-6bda5a72b634",
   "metadata": {},
   "outputs": [
    {
     "name": "stdout",
     "output_type": "stream",
     "text": [
      "[2, 4, 6, 8, 10]\n",
      "[2, 4, 'hello', 8, 10]\n"
     ]
    }
   ],
   "source": [
    "spam =  [2, 4, 6, 8, 10]\n",
    "print(spam)       #printing original spam list\n",
    "spam[2]=\"hello\"   #\"adding \"hello\" string to the 'spam' list\n",
    "print(spam)       #printing updated spam list\n",
    "     "
   ]
  },
  {
   "cell_type": "code",
   "execution_count": null,
   "id": "43d9c56b-e642-42c5-ba66-11ef4485e9c4",
   "metadata": {},
   "outputs": [],
   "source": [
    "3. What is the value of spam[int(int('3' * 2) / 11)]?\n",
    "\n",
    "Here '3' is a string and int('3'*2) will give int 33, and int(33/11) will give output 3.\n",
    "\n",
    "And spam[3] will give output as 'd'(at 3rd index value)."
   ]
  },
  {
   "cell_type": "code",
   "execution_count": 2,
   "id": "294f833d-19cc-4be9-ae73-a37ac3ff224a",
   "metadata": {},
   "outputs": [
    {
     "name": "stdout",
     "output_type": "stream",
     "text": [
      "d\n"
     ]
    }
   ],
   "source": [
    "spam=['a','b','c','d']\n",
    "print(spam[int(int('3'*2)/11)])"
   ]
  },
  {
   "cell_type": "code",
   "execution_count": null,
   "id": "9f363c75-ce16-41ba-bb1b-0863f0b6537d",
   "metadata": {},
   "outputs": [],
   "source": [
    "4. What is the value of spam[-1]?\n",
    "spam = ['a', 'b', 'c', 'd']\n",
    "\n",
    "     -4   -3   -2   -1\n",
    "\n",
    "Hence spam[-1] will give output as 'd'."
   ]
  },
  {
   "cell_type": "code",
   "execution_count": 4,
   "id": "d0a50d59-7771-4e97-bd94-b1ef64ebaa4d",
   "metadata": {},
   "outputs": [
    {
     "data": {
      "text/plain": [
       "'d'"
      ]
     },
     "execution_count": 4,
     "metadata": {},
     "output_type": "execute_result"
    }
   ],
   "source": [
    "spam[-1]"
   ]
  },
  {
   "cell_type": "code",
   "execution_count": null,
   "id": "8382ce3e-da88-4d71-96a8-73e35ce604ed",
   "metadata": {},
   "outputs": [],
   "source": [
    "5. What is the value of spam[:2]?\n",
    "It will include index values from 0 ('a') and 1 ('a'), and will exclude index value 2.\n",
    "\n",
    "Hencse spam[:2] will give ['a', 'b']."
   ]
  },
  {
   "cell_type": "code",
   "execution_count": 5,
   "id": "2124a35c-3eb6-460d-8b8c-ee332c744798",
   "metadata": {},
   "outputs": [
    {
     "data": {
      "text/plain": [
       "['a', 'b']"
      ]
     },
     "execution_count": 5,
     "metadata": {},
     "output_type": "execute_result"
    }
   ],
   "source": [
    "\n",
    "spam[:2]"
   ]
  },
  {
   "cell_type": "code",
   "execution_count": null,
   "id": "ede06a43-a421-445c-87c0-f09ca5f7038f",
   "metadata": {},
   "outputs": [],
   "source": [
    "6. What is the value of bacon.index('cat')?\n",
    "Ans-> bacon.index('cat') => 1 (first instance of 'cat')"
   ]
  },
  {
   "cell_type": "code",
   "execution_count": 6,
   "id": "fe6de301-8c2a-42a5-a79e-cd447f63e93c",
   "metadata": {},
   "outputs": [
    {
     "data": {
      "text/plain": [
       "1"
      ]
     },
     "execution_count": 6,
     "metadata": {},
     "output_type": "execute_result"
    }
   ],
   "source": [
    "bacon = [3.14, 'cat', 11, 'cat', True]\n",
    "\n",
    "bacon.index('cat')"
   ]
  },
  {
   "cell_type": "code",
   "execution_count": null,
   "id": "38ff2faf-974a-4f29-8547-50912fd8bcd4",
   "metadata": {},
   "outputs": [],
   "source": [
    "7. How does bacon.append(99) change the look of the list value in bacon?\n",
    "It will add 99 in the list at last.\n",
    "\n",
    "bacon=[3.14, 'cat,' 11, 'cat,' True, 99]"
   ]
  },
  {
   "cell_type": "code",
   "execution_count": 7,
   "id": "3848a54a-dc2c-44aa-b89c-eabaaa75952c",
   "metadata": {},
   "outputs": [
    {
     "data": {
      "text/plain": [
       "[3.14, 'cat', 11, 'cat', True, 99]"
      ]
     },
     "execution_count": 7,
     "metadata": {},
     "output_type": "execute_result"
    }
   ],
   "source": [
    "bacon.append(99) \n",
    "bacon"
   ]
  },
  {
   "cell_type": "code",
   "execution_count": null,
   "id": "4f691ed0-3ff8-4aed-ae5e-ef6cf1ed9c9a",
   "metadata": {},
   "outputs": [],
   "source": [
    "8. How does bacon.remove('cat') change the look of the list in bacon?\n",
    "It will remove the 'cat' (first occurance) value from the list.\n",
    "\n",
    "bacon=[3.14,' 11, True, 99]"
   ]
  },
  {
   "cell_type": "code",
   "execution_count": null,
   "id": "8d0443ed-b88c-42c4-a1e8-244201e4020c",
   "metadata": {},
   "outputs": [],
   "source": [
    "9. What are the list concatenation and list replication operators?\n",
    "The operator for list concatenation is + .\n",
    "\n",
    "Operator for replication is *."
   ]
  },
  {
   "cell_type": "code",
   "execution_count": 9,
   "id": "94e78821-5040-4428-87e4-76c746622e65",
   "metadata": {},
   "outputs": [
    {
     "name": "stdout",
     "output_type": "stream",
     "text": [
      "[1, 2, 3, 4, 'a', 'b', 'c']\n",
      "['a', 'b', 'c', 'a', 'b', 'c']\n"
     ]
    }
   ],
   "source": [
    "\n",
    "#Example\n",
    "\n",
    "A=[1, 2, 3, 4]\n",
    "B=['a', 'b', 'c']\n",
    "\n",
    "print(A+B)\n",
    "print(B*2)"
   ]
  },
  {
   "cell_type": "code",
   "execution_count": null,
   "id": "de9fb487-cf5b-464d-8acf-508f6a9080f8",
   "metadata": {},
   "outputs": [],
   "source": [
    "10. What is difference between the list methods append() and insert()?\n",
    "append() will add values only to the end of a list\n",
    "\n",
    "insert() can add them anywhere in the list."
   ]
  },
  {
   "cell_type": "code",
   "execution_count": 10,
   "id": "69b9edcb-e43f-4920-90d3-6a45dac99818",
   "metadata": {},
   "outputs": [
    {
     "name": "stdout",
     "output_type": "stream",
     "text": [
      "[1, 2, 3, 4]\n",
      "[1, 2, 3, 'Inserted Vale', 4, 'Appended Value']\n"
     ]
    }
   ],
   "source": [
    "print(A)\n",
    "A.append(\"Appended Value\")\n",
    "A.insert(3,\"Inserted Vale\") #at 3rd index\n",
    "print(A)"
   ]
  },
  {
   "cell_type": "code",
   "execution_count": null,
   "id": "46b87b18-fad3-4fc2-aefd-0c0600ef4140",
   "metadata": {},
   "outputs": [],
   "source": [
    "11. What are the two methods for removing items from a list?\n",
    "remove(Actual Value that is to be reomved)\n",
    "\n",
    "pop(Index Value that is to be reomved)"
   ]
  },
  {
   "cell_type": "code",
   "execution_count": 11,
   "id": "71aaba80-02b2-46c3-bf44-4e7bb506da4d",
   "metadata": {},
   "outputs": [
    {
     "name": "stdout",
     "output_type": "stream",
     "text": [
      "[1, 2, 3, 'Inserted Vale', 4, 'Appended Value']\n",
      "[2, 3, 'Inserted Vale', 'Appended Value']\n"
     ]
    }
   ],
   "source": [
    "print(A)\n",
    "\n",
    "A.remove(4)   # Remove '4' value from the list.\n",
    "A.pop(0)      # Remove 0th index value from the list.\n",
    "print(A)"
   ]
  },
  {
   "cell_type": "code",
   "execution_count": null,
   "id": "f9021dac-678f-47f4-8194-f98805dc18c5",
   "metadata": {},
   "outputs": [],
   "source": [
    "12. Describe how list values and string values are identical.\n",
    "Both lists and strings can be:\n",
    "\n",
    "passed to len() function.\n",
    "Have indexes and slices.\n",
    "Used in for loops.\n",
    "Can be concatenated(+) or replicated(*)\n",
    "Used with the in and not in operators."
   ]
  },
  {
   "cell_type": "code",
   "execution_count": null,
   "id": "60ccc922-1cc5-4053-897e-cce4fbb0f15e",
   "metadata": {},
   "outputs": [],
   "source": [
    "13. What's the difference between tuples and lists?\n",
    "Lists are:\n",
    "\n",
    "Mutable, Indexable and Slicable.\n",
    " *They can have values added, removed, or changed.\n",
    "lists use the square brackets, [].\n",
    "Tuples are:\n",
    "\n",
    "Immutable but Indexable and Slicable.\n",
    "Tuple values cannot be changed at all.\n",
    "Tuples are represented using parentheses, ()."
   ]
  }
 ],
 "metadata": {
  "kernelspec": {
   "display_name": "Python 3 (ipykernel)",
   "language": "python",
   "name": "python3"
  },
  "language_info": {
   "codemirror_mode": {
    "name": "ipython",
    "version": 3
   },
   "file_extension": ".py",
   "mimetype": "text/x-python",
   "name": "python",
   "nbconvert_exporter": "python",
   "pygments_lexer": "ipython3",
   "version": "3.10.6"
  }
 },
 "nbformat": 4,
 "nbformat_minor": 5
}
