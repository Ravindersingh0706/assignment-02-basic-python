{
 "cells": [
  {
   "cell_type": "code",
   "execution_count": null,
   "id": "c3c2a238-d53b-4951-aca7-b3f570d24856",
   "metadata": {},
   "outputs": [],
   "source": [
    "1. Add the current date to the text file today.txt as a string."
   ]
  },
  {
   "cell_type": "code",
   "execution_count": 1,
   "id": "b7f92af3-a9e3-4284-a089-514f0213ae89",
   "metadata": {},
   "outputs": [
    {
     "name": "stdout",
     "output_type": "stream",
     "text": [
      "05-05-2023\n"
     ]
    }
   ],
   "source": [
    "import datetime\n",
    "# Code to Add current date to the today.txt file\n",
    "file = open('today.txt','w')\n",
    "file.write(datetime.datetime.now().strftime(\"%d-%m-%Y\"))\n",
    "file.close()\n",
    "# Code to Read current date from today.txt file\n",
    "file = open('today.txt','r')\n",
    "print(file.read())\n",
    "file.close()"
   ]
  },
  {
   "cell_type": "code",
   "execution_count": null,
   "id": "c0237b94-f252-4fb2-9f6a-39f7a7f26fa5",
   "metadata": {},
   "outputs": [],
   "source": [
    "2. Read the text file today.txt into the string today_string"
   ]
  },
  {
   "cell_type": "code",
   "execution_count": 2,
   "id": "fdfbad0b-a0ce-42a5-a35d-0563b356431c",
   "metadata": {},
   "outputs": [
    {
     "name": "stdout",
     "output_type": "stream",
     "text": [
      "05-05-2023\n"
     ]
    }
   ],
   "source": [
    "file = open('today.txt','r')\n",
    "today_string = file.read()\n",
    "print(today_string)"
   ]
  },
  {
   "cell_type": "code",
   "execution_count": null,
   "id": "b22d49d2-5511-4d08-b3a9-0e868614eab8",
   "metadata": {},
   "outputs": [],
   "source": [
    "3. Parse the date from today_string."
   ]
  },
  {
   "cell_type": "code",
   "execution_count": 3,
   "id": "8deb8b56-c3b9-4704-b3f9-5107732766cc",
   "metadata": {},
   "outputs": [
    {
     "name": "stdout",
     "output_type": "stream",
     "text": [
      "2023-05-05 00:00:00\n"
     ]
    }
   ],
   "source": [
    "from datetime import datetime\n",
    "parsed_data = datetime.strptime(today_string, '%d-%m-%Y')\n",
    "print(parsed_data)"
   ]
  },
  {
   "cell_type": "code",
   "execution_count": null,
   "id": "c1dd643f-49a1-4815-9379-274cb797a646",
   "metadata": {},
   "outputs": [],
   "source": [
    "4. List the files in your current directory"
   ]
  },
  {
   "cell_type": "code",
   "execution_count": 4,
   "id": "0a2c0133-5d14-4660-b4ae-5ddefa03a0bc",
   "metadata": {},
   "outputs": [
    {
     "name": "stdout",
     "output_type": "stream",
     "text": [
      "assignment 02 programming.ipynb\n",
      "assigment 03 programming.ipynb\n",
      "assignment 24 python.ipynb\n",
      "assignment 07 programming.ipynb\n",
      "assigment python 12 programming.ipynb\n",
      "assignment 25 python.ipynb\n",
      "assignment 04.ipynb\n",
      "assignment 13 programming.ipynb\n",
      "assignment 08 programming.ipynb\n",
      "assignment 19 programmig.ipynb\n",
      "Untitled8.ipynb\n",
      "assignment 01 basic python.ipynb\n",
      "assigment 23 programming.ipynb\n",
      "assigment 02.ipynb\n",
      "assignment 11 programming.ipynb\n",
      "Untitled5.ipynb\n",
      "Untitled7.ipynb\n",
      "Untitled6.ipynb\n",
      "assignment 21 programming.ipynb\n",
      "assignment 05 programming.ipynb\n",
      "assignment 22 programming.ipynb\n",
      "Untitled3.ipynb\n",
      "assigment 16 programming.ipynb\n",
      "assignment 04 programming.ipynb\n",
      "Untitled1.ipynb\n",
      "assignment python 01 coding.ipynb\n",
      "Untitled4.ipynb\n",
      "assignment 10 programming.ipynb\n",
      "assignment 18 programming.ipynb\n",
      "Untitled.ipynb\n",
      "ASSIGNMENT 03 BASIC.ipynb\n",
      "today.txt\n",
      "assignment 20 programming.ipynb\n",
      "assignment 09 programming.ipynb\n",
      "assignment 17 programming'.ipynb\n",
      "Untitled2.ipynb\n",
      "assigment 06 programming.ipynb\n",
      "assigment 06 programming-checkpoint.ipynb\n",
      "packed-refs\n",
      "HEAD\n",
      "index\n",
      "config\n",
      "description\n",
      "HEAD\n",
      "main\n",
      "HEAD\n",
      "exclude\n",
      "pack-290036e657c294196be1b61a981e44da145e2135.pack\n",
      "pack-290036e657c294196be1b61a981e44da145e2135.idx\n",
      "pre-push.sample\n",
      "prepare-commit-msg.sample\n",
      "applypatch-msg.sample\n",
      "pre-applypatch.sample\n",
      "commit-msg.sample\n",
      "pre-rebase.sample\n",
      "pre-receive.sample\n",
      "update.sample\n",
      "fsmonitor-watchman.sample\n",
      "pre-merge-commit.sample\n",
      "pre-commit.sample\n",
      "push-to-checkout.sample\n",
      "post-update.sample\n",
      "main\n",
      "HEAD\n",
      "assigment 03 programming-checkpoint.ipynb\n",
      "assignment 18 programming-checkpoint.ipynb\n",
      "assignment 02 programming-checkpoint.ipynb\n",
      "assignment python 01 coding-checkpoint.ipynb\n",
      "Untitled6-checkpoint.ipynb\n",
      "assignment 08 programming-checkpoint.ipynb\n",
      "assignment 22 programming-checkpoint.ipynb\n",
      "Untitled1-checkpoint.ipynb\n",
      "Untitled4-checkpoint.ipynb\n",
      "assignment 25 python-checkpoint.ipynb\n",
      "assignment 04-checkpoint.ipynb\n",
      "Untitled2-checkpoint.ipynb\n",
      "assignment 10 programming-checkpoint.ipynb\n",
      "assignment 11 programming-checkpoint.ipynb\n",
      "assigment python 12 programming-checkpoint.ipynb\n",
      "assignment 21 programming-checkpoint.ipynb\n",
      "assignment 20 programming-checkpoint.ipynb\n",
      "Untitled7-checkpoint.ipynb\n",
      "assigment 23 programming-checkpoint.ipynb\n",
      "assigment 02-checkpoint.ipynb\n",
      "assigment 16 programming-checkpoint.ipynb\n",
      "ASSIGNMENT 03 BASIC-checkpoint.ipynb\n",
      "Untitled3-checkpoint.ipynb\n",
      "assignment 17 programming'-checkpoint.ipynb\n",
      "assignment 04 programming-checkpoint.ipynb\n",
      "assignment 13 programming-checkpoint.ipynb\n",
      "Untitled-checkpoint.ipynb\n",
      "assignment 05 programming-checkpoint.ipynb\n",
      "assignment 07 programming-checkpoint.ipynb\n",
      "assignment 09 programming-checkpoint.ipynb\n",
      "assignment 24 python-checkpoint.ipynb\n",
      "Untitled8-checkpoint.ipynb\n",
      "assignment 19 programmig-checkpoint.ipynb\n",
      "assignment 01 basic python-checkpoint.ipynb\n",
      "Untitled5-checkpoint.ipynb\n"
     ]
    }
   ],
   "source": [
    "import os\n",
    "for folders, subfolders, files in os.walk(os.getcwd()):\n",
    "    for file in files:\n",
    "        print(file)"
   ]
  },
  {
   "cell_type": "code",
   "execution_count": null,
   "id": "c999590d-621a-4b16-843f-0c65b7df033b",
   "metadata": {},
   "outputs": [],
   "source": [
    "5. Create a list of all of the files in your parent directory (minimum five files should be available).\n"
   ]
  },
  {
   "cell_type": "code",
   "execution_count": 5,
   "id": "31c145ea-f5ec-4cee-be92-b492495bb57f",
   "metadata": {},
   "outputs": [
    {
     "data": {
      "text/plain": [
       "['assignment 02 programming.ipynb',\n",
       " 'assigment 03 programming.ipynb',\n",
       " 'assignment 24 python.ipynb',\n",
       " 'assignment 07 programming.ipynb',\n",
       " 'assigment python 12 programming.ipynb',\n",
       " 'assignment 25 python.ipynb',\n",
       " 'assignment 04.ipynb',\n",
       " 'assignment 13 programming.ipynb',\n",
       " 'assignment 08 programming.ipynb',\n",
       " 'Untitled Folder',\n",
       " 'assignment 19 programmig.ipynb',\n",
       " 'Untitled8.ipynb',\n",
       " 'assignment 01 basic python.ipynb',\n",
       " 'assigment 23 programming.ipynb',\n",
       " 'assigment 02.ipynb',\n",
       " 'assignment 11 programming.ipynb',\n",
       " '.git',\n",
       " 'Untitled5.ipynb',\n",
       " 'Untitled7.ipynb',\n",
       " 'Untitled6.ipynb',\n",
       " 'assignment 21 programming.ipynb',\n",
       " 'assignment 05 programming.ipynb',\n",
       " 'assignment 22 programming.ipynb',\n",
       " 'Untitled3.ipynb',\n",
       " 'assigment 16 programming.ipynb',\n",
       " 'assignment 04 programming.ipynb',\n",
       " 'Untitled1.ipynb',\n",
       " 'assignment python 01 coding.ipynb',\n",
       " 'Untitled4.ipynb',\n",
       " 'assignment 10 programming.ipynb',\n",
       " 'assignment 18 programming.ipynb',\n",
       " 'Untitled.ipynb',\n",
       " '.ipynb_checkpoints',\n",
       " 'ASSIGNMENT 03 BASIC.ipynb',\n",
       " 'today.txt',\n",
       " 'assignment 20 programming.ipynb',\n",
       " 'assignment 09 programming.ipynb',\n",
       " \"assignment 17 programming'.ipynb\",\n",
       " 'Untitled2.ipynb']"
      ]
     },
     "execution_count": 5,
     "metadata": {},
     "output_type": "execute_result"
    }
   ],
   "source": [
    "import os \n",
    "os.listdir()"
   ]
  },
  {
   "cell_type": "code",
   "execution_count": null,
   "id": "674300cc-32e5-4d95-87a2-cf7f2113f876",
   "metadata": {},
   "outputs": [],
   "source": [
    "6. Use multiprocessing to create three separate processes. Make each one wait a random number \n",
    "of seconds between one and five, print the current time, and then exit."
   ]
  },
  {
   "cell_type": "code",
   "execution_count": 6,
   "id": "2b7420a0-daa0-41af-92df-a3c74480c932",
   "metadata": {},
   "outputs": [
    {
     "name": "stdout",
     "output_type": "stream",
     "text": [
      "Proc_one_Starttime -> 2023-05-05 08:16:49.441107\n",
      "Proc_two_Starttime -> 2023-05-05 08:16:49.445433\n",
      "Proc_two_Starttime -> 2023-05-05 08:16:49.451554\n",
      "Proc_one_Endtime -> 2023-05-05 08:16:52.448637\n",
      "Proc_two_Endtime -> 2023-05-05 08:16:53.454458\n",
      "Proc_two_Endtime -> 2023-05-05 08:16:53.459481\n"
     ]
    }
   ],
   "source": [
    "import multiprocessing\n",
    "import time \n",
    "import random\n",
    "import datetime\n",
    "\n",
    "def procOne():\n",
    "    print(f'Proc_one_Starttime -> {datetime.datetime.now()}')\n",
    "    time.sleep(random.randint(1,5))\n",
    "    print(f'Proc_one_Endtime -> {datetime.datetime.now()}')\n",
    "    \n",
    "def procTwo():\n",
    "    print(f'Proc_two_Starttime -> {datetime.datetime.now()}')\n",
    "    time.sleep(random.randint(1,5))\n",
    "    print(f'Proc_two_Endtime -> {datetime.datetime.now()}')\n",
    "\n",
    "def procThree():\n",
    "    print(f'Proc_two_Starttime -> {datetime.datetime.now()}')\n",
    "    time.sleep(random.randint(1,5))\n",
    "    print(f'Proc_two_Endtime -> {datetime.datetime.now()}')\n",
    "    \n",
    "if __name__ == \"__main__\":    \n",
    "    p1 = multiprocessing.Process(target=procOne)\n",
    "    p2 = multiprocessing.Process(target=procTwo)\n",
    "    p3 = multiprocessing.Process(target=procThree)\n",
    "\n",
    "    p1.start()\n",
    "    p2.start()\n",
    "    p3.start()\n",
    "\n",
    "    p1.join()\n",
    "    p2.join()\n",
    "    p3.join()"
   ]
  },
  {
   "cell_type": "code",
   "execution_count": null,
   "id": "2189cef4-d26d-4e6f-b119-72e4da0196bd",
   "metadata": {},
   "outputs": [],
   "source": [
    "7. Create a date object of your day of birth."
   ]
  },
  {
   "cell_type": "code",
   "execution_count": 7,
   "id": "13a2a326-ef85-452a-a251-df2d315aa2c1",
   "metadata": {},
   "outputs": [
    {
     "name": "stdout",
     "output_type": "stream",
     "text": [
      "1997-04-22 00:00:00 <class 'datetime.datetime'>\n"
     ]
    }
   ],
   "source": [
    "from datetime import datetime\n",
    "my_dob = datetime.strptime('22/04/1997','%d/%m/%Y')\n",
    "print(my_dob, type(my_dob))"
   ]
  },
  {
   "cell_type": "code",
   "execution_count": null,
   "id": "fe9cc4f0-ae2a-4ced-b86d-24eeb7dc28cb",
   "metadata": {},
   "outputs": [],
   "source": [
    "8. What day of the week was your day of birth?"
   ]
  },
  {
   "cell_type": "code",
   "execution_count": 8,
   "id": "b1500bb3-6cbc-4360-aaf5-e3530c89521a",
   "metadata": {},
   "outputs": [
    {
     "data": {
      "text/plain": [
       "'Tuesday'"
      ]
     },
     "execution_count": 8,
     "metadata": {},
     "output_type": "execute_result"
    }
   ],
   "source": [
    "from datetime import datetime\n",
    "my_dob = datetime(1997,4,22)\n",
    "my_dob.strftime(\"%A\")"
   ]
  },
  {
   "cell_type": "code",
   "execution_count": null,
   "id": "c36e1b10-d2fb-4bec-90a1-d3bc3dee6cbf",
   "metadata": {},
   "outputs": [],
   "source": [
    "9. When will you be (or when were you) 10,000 days old?"
   ]
  },
  {
   "cell_type": "code",
   "execution_count": 10,
   "id": "37af982a-8a5a-49c7-aadc-3c2e75d324e9",
   "metadata": {},
   "outputs": [
    {
     "data": {
      "text/plain": [
       "datetime.datetime(1969, 12, 5, 0, 0)"
      ]
     },
     "execution_count": 10,
     "metadata": {},
     "output_type": "execute_result"
    }
   ],
   "source": [
    "from datetime import datetime, timedelta\n",
    "my_dob = datetime.strptime(\"22/04/1997\",'%d/%m/%Y')\n",
    "future_date = my_dob-timedelta(10000)\n",
    "future_date"
   ]
  },
  {
   "cell_type": "code",
   "execution_count": null,
   "id": "157183cb-4628-4c44-b301-3800f628a179",
   "metadata": {},
   "outputs": [],
   "source": []
  }
 ],
 "metadata": {
  "kernelspec": {
   "display_name": "Python 3 (ipykernel)",
   "language": "python",
   "name": "python3"
  },
  "language_info": {
   "codemirror_mode": {
    "name": "ipython",
    "version": 3
   },
   "file_extension": ".py",
   "mimetype": "text/x-python",
   "name": "python",
   "nbconvert_exporter": "python",
   "pygments_lexer": "ipython3",
   "version": "3.10.6"
  }
 },
 "nbformat": 4,
 "nbformat_minor": 5
}
