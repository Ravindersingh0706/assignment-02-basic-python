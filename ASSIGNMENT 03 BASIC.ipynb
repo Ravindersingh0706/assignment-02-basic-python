{
 "cells": [
  {
   "cell_type": "code",
   "execution_count": 1,
   "id": "25d98a25-db8f-4cb5-9500-ce374ad0a98b",
   "metadata": {},
   "outputs": [],
   "source": [
    "#1. Why are functions advantageous to have in your programs\n"
   ]
  },
  {
   "cell_type": "code",
   "execution_count": null,
   "id": "056619a7-7bb5-4f6f-8622-00126e7a3bdc",
   "metadata": {},
   "outputs": [],
   "source": [
    "Functions can be resused in the program(reusability).\n",
    "Functions reduce the duplication of code.\n",
    "This makes programs shorter, easier to read, and easier to update."
   ]
  },
  {
   "cell_type": "code",
   "execution_count": 2,
   "id": "80e83925-a63d-4f89-9f2e-efe10057d389",
   "metadata": {},
   "outputs": [],
   "source": [
    "# 2. When does the code in a function run: when it's specified or when it's called?\n",
    "\n",
    "\n",
    "ANS = When the function is called, the code in a function executes."
   ]
  },
  {
   "cell_type": "code",
   "execution_count": null,
   "id": "4bde3962-c6b7-49ee-89d7-c2eec705e038",
   "metadata": {},
   "outputs": [],
   "source": [
    "#3  3. What statement creates a function?\n",
    "ANS \n",
    "def keyword creates the function.\n",
    "\n",
    "Syntax\n",
    "\n",
    "def function_name(parameters)"
   ]
  },
  {
   "cell_type": "code",
   "execution_count": null,
   "id": "e6495c84-a438-440a-a107-137302f6e8fe",
   "metadata": {},
   "outputs": [],
   "source": [
    "#4 What is the difference between a function and a function call?\n",
    "ANS \n",
    "  Function:\n",
    "\n",
    "  It is procedure to achieve a particular result.\n",
    "  Function call\n",
    "\n",
    "  The particular function to achive that task."
   ]
  },
  {
   "cell_type": "code",
   "execution_count": null,
   "id": "4163eda8-1bbd-4471-a1c6-e6dded53bdd1",
   "metadata": {},
   "outputs": [],
   "source": [
    "#5. How many global scopes are there in a Python program? How many local scopes?\n",
    " One Global Scope\n",
    " One Local Scope"
   ]
  },
  {
   "cell_type": "code",
   "execution_count": null,
   "id": "da8f335a-2d37-4d7a-8e60-ca84f9cd3278",
   "metadata": {},
   "outputs": [],
   "source": [
    "#6 What happens to variables in a local scope when the function call returns?ans \n",
    "ANS = When a function returns, the local scope is terminated, and all the variables in it are forgotten."
   ]
  },
  {
   "cell_type": "code",
   "execution_count": null,
   "id": "f1916e5b-3fab-441f-89c0-5a3f740f7534",
   "metadata": {},
   "outputs": [],
   "source": [
    "#7 What is the concept of a return value? Is it possible to have a return value in an expression?\n",
    "ANS = A return value is the value that a function call evaluates to. Like any value, a return value can \n",
    "be used as part of an expression."
   ]
  },
  {
   "cell_type": "code",
   "execution_count": null,
   "id": "dca50f7e-a727-4df4-8c2e-90fe354d9262",
   "metadata": {},
   "outputs": [],
   "source": [
    "#8 8. If a function does not have a return statement, what is the return value of a call to that function?\n",
    "ANS = It will returen None.\n",
    "\n"
   ]
  },
  {
   "cell_type": "code",
   "execution_count": null,
   "id": "b1313abe-460d-4ff1-9823-dc58a318f151",
   "metadata": {},
   "outputs": [],
   "source": [
    "#9. How do you make a function variable refer to the global variable?\n",
    "ANS = A global statement will force a variable in a function to refer to the global variable. \n",
    "    If you want to refer to a global variable in a function, you can use the global keyword to declare \n",
    "    which variables are global."
   ]
  },
  {
   "cell_type": "code",
   "execution_count": 3,
   "id": "11a9a501-6b44-49a0-a2dd-825ea1a58ac7",
   "metadata": {},
   "outputs": [],
   "source": [
    "#10. What is the data type of None?\n",
    "NoneType"
   ]
  },
  {
   "cell_type": "code",
   "execution_count": 4,
   "id": "ff451606-7fbb-4550-85f2-de4349709991",
   "metadata": {},
   "outputs": [
    {
     "name": "stdout",
     "output_type": "stream",
     "text": [
      "None\n",
      "<class 'NoneType'>\n"
     ]
    }
   ],
   "source": [
    "\n",
    "#Example\n",
    "\n",
    "def test1():\n",
    "    pass\n",
    "b=test1()\n",
    "print(b)\n",
    "print(type(b))"
   ]
  },
  {
   "cell_type": "code",
   "execution_count": null,
   "id": "0a3dcaae-3a18-446c-9145-931525234e72",
   "metadata": {},
   "outputs": [],
   "source": [
    "#"
   ]
  }
 ],
 "metadata": {
  "kernelspec": {
   "display_name": "Python 3 (ipykernel)",
   "language": "python",
   "name": "python3"
  },
  "language_info": {
   "codemirror_mode": {
    "name": "ipython",
    "version": 3
   },
   "file_extension": ".py",
   "mimetype": "text/x-python",
   "name": "python",
   "nbconvert_exporter": "python",
   "pygments_lexer": "ipython3",
   "version": "3.10.6"
  }
 },
 "nbformat": 4,
 "nbformat_minor": 5
}
